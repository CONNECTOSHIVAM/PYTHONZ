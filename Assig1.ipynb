{
 "cells": [
  {
   "cell_type": "markdown",
   "id": "3a1c2a79",
   "metadata": {},
   "source": [
    "1. STRING BASED ASSIGNMENT PROBLEM"
   ]
  },
  {
   "cell_type": "code",
   "execution_count": 5,
   "id": "40c3afe2",
   "metadata": {},
   "outputs": [
    {
     "data": {
      "text/plain": [
       "'mavihs'"
      ]
     },
     "execution_count": 5,
     "metadata": {},
     "output_type": "execute_result"
    }
   ],
   "source": [
    "##Q1. write a program to reverse a string.\n",
    "\n",
    "def reverse_str(input_str):\n",
    "    reversed_string = ''\n",
    "    for char in input_str:\n",
    "        reversed_string = char + reversed_string\n",
    "\n",
    "    return reversed_string\n",
    "\n",
    "reverse_str('shivam')"
   ]
  },
  {
   "cell_type": "code",
   "execution_count": 13,
   "id": "50138f02",
   "metadata": {},
   "outputs": [
    {
     "name": "stdout",
     "output_type": "stream",
     "text": [
      "string is not palindrome\n",
      "string is palindrome\n"
     ]
    }
   ],
   "source": [
    "##Q2. Check if a string is a palindrome.\n",
    "\n",
    "def check_palindrome(input_str):\n",
    "    b = input_str.lower()\n",
    "    b = ''.join(e for e in b if e.isalnum()) #it remove the special character (@) and spaces.\n",
    "    if b == b[::-1]:\n",
    "        print(\"string is palindrome\")\n",
    "    else:\n",
    "        print(\"string is not palindrome\")\n",
    "\n",
    "\n",
    "check_palindrome('mom@12')\n",
    "check_palindrome(\"A man, a plan, a canal, Panama\")"
   ]
  },
  {
   "cell_type": "code",
   "execution_count": 15,
   "id": "c14119d9",
   "metadata": {},
   "outputs": [
    {
     "data": {
      "text/plain": [
       "'SHIVAM'"
      ]
     },
     "execution_count": 15,
     "metadata": {},
     "output_type": "execute_result"
    }
   ],
   "source": [
    "##Q3. Convert a string to uppercase.\n",
    "\n",
    "def converttouppercase(input_str):\n",
    "    return input_str.upper()\n",
    "\n",
    "input_str = input('enter the string value: ')\n",
    "converttouppercase(input_str)"
   ]
  },
  {
   "cell_type": "code",
   "execution_count": 16,
   "id": "5e0e2002",
   "metadata": {},
   "outputs": [
    {
     "data": {
      "text/plain": [
       "'ghjkhj'"
      ]
     },
     "execution_count": 16,
     "metadata": {},
     "output_type": "execute_result"
    }
   ],
   "source": [
    "##Q4. Convert a string to lowercase.\n",
    "\n",
    "def converttolowercase(input_str):\n",
    "    return input_str.lower()\n",
    "\n",
    "input_str = input('enter the string value: ')\n",
    "converttolowercase(input_str)"
   ]
  },
  {
   "cell_type": "code",
   "execution_count": 21,
   "id": "70a46f89",
   "metadata": {},
   "outputs": [
    {
     "data": {
      "text/plain": [
       "5"
      ]
     },
     "execution_count": 21,
     "metadata": {},
     "output_type": "execute_result"
    }
   ],
   "source": [
    "##Q5. Count the number of vowels in a string.\n",
    "\n",
    "def numofvowel(input_str):\n",
    "    count = 0\n",
    "    input_str = ''.join(e for e in input_str if e.isalnum())\n",
    "    for i in input_str:\n",
    "        if i in 'aeiouAEIOU':\n",
    "            count += 1\n",
    "\n",
    "    return count\n",
    "\n",
    "numofvowel('Hi , I am shivam.')"
   ]
  },
  {
   "cell_type": "code",
   "execution_count": 24,
   "id": "cb344f8e",
   "metadata": {},
   "outputs": [
    {
     "data": {
      "text/plain": [
       "8"
      ]
     },
     "execution_count": 24,
     "metadata": {},
     "output_type": "execute_result"
    }
   ],
   "source": [
    "##Q6. Count the number of consonants in a string.\n",
    "\n",
    "def numOfConsonants(input_str):\n",
    "    count = 0\n",
    "    input_str = ''.join(e for e in input_str if e.isalnum()).lower()\n",
    "    for char in input_str:\n",
    "        if char in 'bnmvcxzlkjhgfdspytrwq':\n",
    "            count += 1\n",
    "\n",
    "    return count\n",
    "numOfConsonants('Hi, I am sanskriti')"
   ]
  },
  {
   "cell_type": "code",
   "execution_count": 26,
   "id": "543b43d7",
   "metadata": {},
   "outputs": [
    {
     "data": {
      "text/plain": [
       "'Hi,Iamsanskriti'"
      ]
     },
     "execution_count": 26,
     "metadata": {},
     "output_type": "execute_result"
    }
   ],
   "source": [
    "##Q7. Remove all whitespaces from a string.\n",
    "\n",
    "def removeWhiteSpace(input_str):\n",
    "    new_str= \"\"\n",
    "    for char in input_str:\n",
    "        if char != \" \":\n",
    "            new_str += char\n",
    "\n",
    "    return new_str\n",
    "removeWhiteSpace('Hi, I am sanskriti     ')"
   ]
  },
  {
   "cell_type": "code",
   "execution_count": 27,
   "id": "2553c022",
   "metadata": {},
   "outputs": [
    {
     "data": {
      "text/plain": [
       "21"
      ]
     },
     "execution_count": 27,
     "metadata": {},
     "output_type": "execute_result"
    }
   ],
   "source": [
    "## Q8. Find the length of a string without using the `len()` function.\n",
    "\n",
    "def lenOfString(input_str):\n",
    "    count = 0\n",
    "    for char in input_str:\n",
    "        count += 1\n",
    "    return count\n",
    "\n",
    "lenOfString('Hi, How are you dear!')"
   ]
  },
  {
   "cell_type": "code",
   "execution_count": 29,
   "id": "d06aa877",
   "metadata": {},
   "outputs": [
    {
     "name": "stdout",
     "output_type": "stream",
     "text": [
      "string is contain specific word nature\n"
     ]
    }
   ],
   "source": [
    "## Q9. Check if a string contains a specific word.\n",
    "\n",
    "def checkSpecificWord(input_str,specific_word):\n",
    "    \n",
    "    if specific_word in input_str:\n",
    "        print(f\"string is contain specific word {specific_word}\")\n",
    "    else:\n",
    "        print(f'string is not containg entered {specific_word}')\n",
    "\n",
    "input_str = input('enter the string :')\n",
    "specific_word = input('enter the specific word: ')\n",
    "checkSpecificWord(input_str,specific_word)\n"
   ]
  },
  {
   "cell_type": "code",
   "execution_count": 1,
   "id": "a7062300",
   "metadata": {},
   "outputs": [
    {
     "data": {
      "text/plain": [
       "'Hi, I am shivam , I really love to solve real world problems'"
      ]
     },
     "execution_count": 1,
     "metadata": {},
     "output_type": "execute_result"
    }
   ],
   "source": [
    "## Q10. Replace a word in a string with another word.\n",
    "\n",
    "def replaceWord(input_str,replaced_word,new_word):\n",
    "    return input_str.replace(replaced_word,new_word)\n",
    "\n",
    "##functions definations\n",
    "input_str = input(\"Enter the string value: \")\n",
    "replaced_word = input('Enter the word to be replaced: ')\n",
    "new_word = input('enter the new word: ')\n",
    "replaceWord(input_str,replaced_word,new_word)"
   ]
  },
  {
   "cell_type": "code",
   "execution_count": 11,
   "id": "b528ec00",
   "metadata": {},
   "outputs": [
    {
     "name": "stdout",
     "output_type": "stream",
     "text": [
      "1\n"
     ]
    }
   ],
   "source": [
    "##Q11. Count the occurrences of a word in a string.\n",
    "\n",
    "def check_occurrences(input_str,specific_word):\n",
    "    count = 0\n",
    "    input_str = input_str.split()\n",
    "    \n",
    "\n",
    "    for i in input_str:\n",
    "        if i == specific_word:\n",
    "            count += 1\n",
    "    return count\n",
    "\n",
    "input_str = 'Hi, I am shivam , I really love to solve real world problems'\n",
    "specific_word = 'real'\n",
    "print(check_occurrences(input_str,specific_word))"
   ]
  },
  {
   "cell_type": "code",
   "execution_count": null,
   "id": "dfbbd2fb",
   "metadata": {},
   "outputs": [
    {
     "name": "stdout",
     "output_type": "stream",
     "text": [
      "32\n"
     ]
    }
   ],
   "source": [
    "#Q12. Find the first occurrence of a word in a string.\n",
    "\n",
    "def find_the_firstOccurrence(text,word):\n",
    "    #step 1: find methood are used to find first index of word.\n",
    "    index = text.find(word)\n",
    "    #step2: check if index is -1 --> indicating that word was not found.     if index == -1:\n",
    "    return None\n",
    "    #step 3: return the first index of the word. \n",
    "    return index\n",
    "\n",
    "\n",
    "text = 'Hi, I am shivam and I love read books.'\n",
    "word = 'books'\n",
    "result = find_the_firstOccurrence(text,word)\n",
    "print(result)"
   ]
  },
  {
   "cell_type": "code",
   "execution_count": 2,
   "id": "4d7efa52",
   "metadata": {},
   "outputs": [
    {
     "name": "stdout",
     "output_type": "stream",
     "text": [
      "38\n"
     ]
    }
   ],
   "source": [
    "# Q.13. Find the last occurrence of a word in a string.\n",
    "\n",
    "def find_the_lastOccurence(text, word):\n",
    "    #step1: find the index of last occurence of word in the text. \n",
    "    index = text.rfind(word)\n",
    "    #step2: check if index is -1 --> indicating that word was not found. \n",
    "    if index == -1:\n",
    "        return None\n",
    "    #step3: return the index of last occurance of word. \n",
    "    return index\n",
    "\n",
    "\n",
    "text = 'Hi, I am shivam books and I love read books.'\n",
    "word = 'books'\n",
    "result = find_the_lastOccurence(text,word)\n",
    "print(result)"
   ]
  },
  {
   "cell_type": "code",
   "execution_count": 4,
   "id": "239b63e5",
   "metadata": {},
   "outputs": [
    {
     "name": "stdout",
     "output_type": "stream",
     "text": [
      "['Hi,', 'I', 'am', 'shivam', 'books', 'and', 'I', 'love', 'read', 'books.']\n"
     ]
    }
   ],
   "source": [
    "# Q14. Split a string into a list of words.\n",
    "\n",
    "def split_the_string(text):\n",
    "    #step1: split methood are used to covert the string text into list of words.\n",
    "    text = text.split()\n",
    "    #step2: Now return the list of words.\n",
    "    return text\n",
    "\n",
    "text = 'Hi, I am shivam books and I love read books.'\n",
    "result = split_the_string(text)\n",
    "print(result)"
   ]
  },
  {
   "cell_type": "code",
   "execution_count": 8,
   "id": "ab2cde32",
   "metadata": {},
   "outputs": [
    {
     "name": "stdout",
     "output_type": "stream",
     "text": [
      "Hi, I am shivam AI and I love to eat data.\n"
     ]
    }
   ],
   "source": [
    "# Q15. Join a list of words into a string.\n",
    "\n",
    "#functions definations.\n",
    "def list_to_string(text):\n",
    "    #step1: take joined string varible to join string from list value.\n",
    "    joined_string = ' '.join(text)\n",
    "    #step2: return the joined string.\n",
    "    return joined_string\n",
    "\n",
    "#Driver code\n",
    "text = ['Hi,', 'I', 'am', 'shivam', 'AI', 'and', 'I', 'love', 'to','eat', 'data.']\n",
    "result = list_to_string(text)\n",
    "print(result)"
   ]
  },
  {
   "cell_type": "code",
   "execution_count": 9,
   "id": "5b662219",
   "metadata": {},
   "outputs": [
    {
     "name": "stdout",
     "output_type": "stream",
     "text": [
      "Hi,_I_am_shivam_AI_and_I_love_to_eat_data.\n"
     ]
    }
   ],
   "source": [
    "# Q16. Convert a string where words are separated by spaces to one where words\n",
    "# are separated by underscores.\n",
    "\n",
    "#functions definations\n",
    "def replaceSpace_to_underscore(text):\n",
    "    #step 1: we replace the space(' ') to underscore(_) to store the updated_text\n",
    "    updated_text = text.replace(\" \",'_')\n",
    "    return updated_text\n",
    "\n",
    "\n",
    "\n",
    "\n",
    "#Driver code\n",
    "text = 'Hi, I am shivam AI and I love to eat data.'\n",
    "result = replaceSpace_to_underscore(text)\n",
    "print(result)"
   ]
  },
  {
   "cell_type": "code",
   "execution_count": 12,
   "id": "0d28bba4",
   "metadata": {},
   "outputs": [
    {
     "name": "stdout",
     "output_type": "stream",
     "text": [
      "text is stard with prefix: Hi\n"
     ]
    }
   ],
   "source": [
    "# Q17. Check if a string starts with a specific word or phrase.\n",
    "\n",
    "#functions definations.\n",
    "def start_with(text,prefix):\n",
    "    # step1: check the start with prefix or not.\n",
    "    is_prefix = text.startswith(prefix)\n",
    "    # step2: return the result of the check.\n",
    "    return is_prefix\n",
    "\n",
    "#driver code.\n",
    "text = 'Hi, I am shivam AI and I love to eat data.'\n",
    "prefix = 'Hi'\n",
    "result = start_with(text,prefix)\n",
    "\n",
    "if result:\n",
    "    print(f'text is stard with prefix: {prefix}')\n",
    "else:\n",
    "    print(f'text is not start with suffix: {prefix}')"
   ]
  },
  {
   "cell_type": "code",
   "execution_count": 16,
   "id": "ef7431a8",
   "metadata": {},
   "outputs": [
    {
     "name": "stdout",
     "output_type": "stream",
     "text": [
      "text is end with suffix: data.\n"
     ]
    }
   ],
   "source": [
    "# Q18. Check if a string ends with a specific word or phrase.\n",
    "\n",
    "#functions definations.\n",
    "def end_with(text,suffix):\n",
    "    #step 1: using endwith methood check the specfic key word end or not.\n",
    "    is_suffix = text.endswith(suffix)\n",
    "    #step 2: return the result of the check.\n",
    "    return is_suffix\n",
    "\n",
    "\n",
    "\n",
    "#Driver code\n",
    "text = 'Hi, I am shivam AI and I love to eat data.'\n",
    "suffix = 'data.'\n",
    "result = end_with(text,suffix)\n",
    "\n",
    "if result:\n",
    "    print(f\"text is end with suffix: {suffix}\")\n",
    "else:\n",
    "    print(f\"text is not end with suffix: {suffix}\")"
   ]
  },
  {
   "cell_type": "code",
   "execution_count": 18,
   "id": "156f25f1",
   "metadata": {},
   "outputs": [
    {
     "name": "stdout",
     "output_type": "stream",
     "text": [
      "Connecto Shivam Is Goat\n"
     ]
    }
   ],
   "source": [
    "# Q19. Convert a string to title case\n",
    "\n",
    "# function definations\n",
    "def convert_to_titlecase(text):\n",
    "    return text.title()\n",
    "\n",
    "\n",
    "#Driver code\n",
    "text = 'connecto shivam is goat'\n",
    "result = convert_to_titlecase(text)\n",
    "print(result)\n"
   ]
  },
  {
   "cell_type": "code",
   "execution_count": 27,
   "id": "719c662e",
   "metadata": {},
   "outputs": [
    {
     "name": "stdout",
     "output_type": "stream",
     "text": [
      "shivam\n"
     ]
    }
   ],
   "source": [
    "# Q20. Find the longest word in a string.\n",
    "\n",
    "#functions definations\n",
    "def find_the_longestWord(text):\n",
    "    #step1: we use split methood to convert the string into list of words.\n",
    "    text = text.split()\n",
    "    #step2: Intialise variable to keep track the longest word. \n",
    "    max = 0\n",
    "    longest_word=''\n",
    "    #step3: Iterate through the list pf words.\n",
    "    for i in text:\n",
    "        #step4: if word length of current word is grater than to previous word.\n",
    "        if len(i) > max :\n",
    "            max = len(i)\n",
    "            longest_word= i\n",
    "    return longest_word\n",
    "\n",
    "\n",
    "#Driver code:\n",
    "text = 'Hi, I am shivam AI and I love to eat data'\n",
    "result = find_the_longestWord(text)\n",
    "print(result)"
   ]
  },
  {
   "cell_type": "code",
   "execution_count": 28,
   "id": "5b195603",
   "metadata": {},
   "outputs": [
    {
     "name": "stdout",
     "output_type": "stream",
     "text": [
      "I\n"
     ]
    }
   ],
   "source": [
    "# Q21. Find the shortest word in a string.\n",
    "\n",
    "#functions definations\n",
    "def find_the_shortestWord(text):\n",
    "    # step 1: we convert string into list of words.\n",
    "    text = text.split()\n",
    "    # step 2: we intialise the variable to keep track the longest word. \n",
    "    shortest_word= None\n",
    "    min_length = float('inf')\n",
    "    #step 3: iterate the list of words.\n",
    "    for i in text:\n",
    "        if len(i) < min_length:\n",
    "            min_length = len(i)\n",
    "            shortest_word = i\n",
    "\n",
    "    return shortest_word\n",
    "\n",
    "\n",
    "\n",
    "#Driver code:\n",
    "text = 'Hi, I am shivam AI and I love to eat data'\n",
    "result = find_the_shortestWord(text)\n",
    "print(result)"
   ]
  },
  {
   "cell_type": "code",
   "execution_count": 8,
   "id": "e8048e35",
   "metadata": {},
   "outputs": [
    {
     "name": "stdout",
     "output_type": "stream",
     "text": [
      "cream?specialanytakebeautyinternalYourdear,Hi\n"
     ]
    }
   ],
   "source": [
    "# Q22. Reverse the order of words in a string.\n",
    "\n",
    "#functions definations.\n",
    "def reversed_word(text):\n",
    "    text = text.split()\n",
    "    reversed_word = text[::-1]\n",
    "    return ''.join(reversed_word)\n",
    "\n",
    "\n",
    "\n",
    "\n",
    "#Driver code:\n",
    "text = \"Hi dear, Your internal beauty take any special cream?\"\n",
    "result = reversed_word(text)\n",
    "print(result)"
   ]
  },
  {
   "cell_type": "code",
   "execution_count": null,
   "id": "f913374f",
   "metadata": {},
   "outputs": [],
   "source": []
  },
  {
   "cell_type": "code",
   "execution_count": null,
   "id": "469db2cd",
   "metadata": {},
   "outputs": [],
   "source": []
  }
 ],
 "metadata": {
  "kernelspec": {
   "display_name": "Python 3",
   "language": "python",
   "name": "python3"
  },
  "language_info": {
   "codemirror_mode": {
    "name": "ipython",
    "version": 3
   },
   "file_extension": ".py",
   "mimetype": "text/x-python",
   "name": "python",
   "nbconvert_exporter": "python",
   "pygments_lexer": "ipython3",
   "version": "3.12.3"
  }
 },
 "nbformat": 4,
 "nbformat_minor": 5
}
