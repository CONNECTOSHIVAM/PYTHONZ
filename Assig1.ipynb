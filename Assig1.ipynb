{
 "cells": [
  {
   "cell_type": "markdown",
   "id": "3a1c2a79",
   "metadata": {},
   "source": [
    "1. STRING BASED ASSIGNMENT PROBLEM"
   ]
  },
  {
   "cell_type": "code",
   "execution_count": 5,
   "id": "40c3afe2",
   "metadata": {},
   "outputs": [
    {
     "data": {
      "text/plain": [
       "'mavihs'"
      ]
     },
     "execution_count": 5,
     "metadata": {},
     "output_type": "execute_result"
    }
   ],
   "source": [
    "##Q1. write a program to reverse a string.\n",
    "\n",
    "def reverse_str(input_str):\n",
    "    reversed_string = ''\n",
    "    for char in input_str:\n",
    "        reversed_string = char + reversed_string\n",
    "\n",
    "    return reversed_string\n",
    "\n",
    "reverse_str('shivam')"
   ]
  },
  {
   "cell_type": "code",
   "execution_count": 13,
   "id": "50138f02",
   "metadata": {},
   "outputs": [
    {
     "name": "stdout",
     "output_type": "stream",
     "text": [
      "string is not palindrome\n",
      "string is palindrome\n"
     ]
    }
   ],
   "source": [
    "##Q2. Check if a string is a palindrome.\n",
    "\n",
    "def check_palindrome(input_str):\n",
    "    b = input_str.lower()\n",
    "    b = ''.join(e for e in b if e.isalnum()) #it remove the special character (@) and spaces.\n",
    "    if b == b[::-1]:\n",
    "        print(\"string is palindrome\")\n",
    "    else:\n",
    "        print(\"string is not palindrome\")\n",
    "\n",
    "\n",
    "check_palindrome('mom@12')\n",
    "check_palindrome(\"A man, a plan, a canal, Panama\")"
   ]
  },
  {
   "cell_type": "code",
   "execution_count": 15,
   "id": "c14119d9",
   "metadata": {},
   "outputs": [
    {
     "data": {
      "text/plain": [
       "'SHIVAM'"
      ]
     },
     "execution_count": 15,
     "metadata": {},
     "output_type": "execute_result"
    }
   ],
   "source": [
    "##Q3. Convert a string to uppercase.\n",
    "\n",
    "def converttouppercase(input_str):\n",
    "    return input_str.upper()\n",
    "\n",
    "input_str = input('enter the string value: ')\n",
    "converttouppercase(input_str)"
   ]
  },
  {
   "cell_type": "code",
   "execution_count": 16,
   "id": "5e0e2002",
   "metadata": {},
   "outputs": [
    {
     "data": {
      "text/plain": [
       "'ghjkhj'"
      ]
     },
     "execution_count": 16,
     "metadata": {},
     "output_type": "execute_result"
    }
   ],
   "source": [
    "##Q4. Convert a string to lowercase.\n",
    "\n",
    "def converttolowercase(input_str):\n",
    "    return input_str.lower()\n",
    "\n",
    "input_str = input('enter the string value: ')\n",
    "converttolowercase(input_str)"
   ]
  },
  {
   "cell_type": "code",
   "execution_count": 21,
   "id": "70a46f89",
   "metadata": {},
   "outputs": [
    {
     "data": {
      "text/plain": [
       "5"
      ]
     },
     "execution_count": 21,
     "metadata": {},
     "output_type": "execute_result"
    }
   ],
   "source": [
    "##Q5. Count the number of vowels in a string.\n",
    "\n",
    "def numofvowel(input_str):\n",
    "    count = 0\n",
    "    input_str = ''.join(e for e in input_str if e.isalnum())\n",
    "    for i in input_str:\n",
    "        if i in 'aeiouAEIOU':\n",
    "            count += 1\n",
    "\n",
    "    return count\n",
    "\n",
    "numofvowel('Hi , I am shivam.')"
   ]
  },
  {
   "cell_type": "code",
   "execution_count": 24,
   "id": "cb344f8e",
   "metadata": {},
   "outputs": [
    {
     "data": {
      "text/plain": [
       "8"
      ]
     },
     "execution_count": 24,
     "metadata": {},
     "output_type": "execute_result"
    }
   ],
   "source": [
    "##Q6. Count the number of consonants in a string.\n",
    "\n",
    "def numOfConsonants(input_str):\n",
    "    count = 0\n",
    "    input_str = ''.join(e for e in input_str if e.isalnum()).lower()\n",
    "    for char in input_str:\n",
    "        if char in 'bnmvcxzlkjhgfdspytrwq':\n",
    "            count += 1\n",
    "\n",
    "    return count\n",
    "numOfConsonants('Hi, I am sanskriti')"
   ]
  },
  {
   "cell_type": "code",
   "execution_count": 26,
   "id": "543b43d7",
   "metadata": {},
   "outputs": [
    {
     "data": {
      "text/plain": [
       "'Hi,Iamsanskriti'"
      ]
     },
     "execution_count": 26,
     "metadata": {},
     "output_type": "execute_result"
    }
   ],
   "source": [
    "##Q7. Remove all whitespaces from a string.\n",
    "\n",
    "def removeWhiteSpace(input_str):\n",
    "    new_str= \"\"\n",
    "    for char in input_str:\n",
    "        if char != \" \":\n",
    "            new_str += char\n",
    "\n",
    "    return new_str\n",
    "removeWhiteSpace('Hi, I am sanskriti     ')"
   ]
  },
  {
   "cell_type": "code",
   "execution_count": 27,
   "id": "2553c022",
   "metadata": {},
   "outputs": [
    {
     "data": {
      "text/plain": [
       "21"
      ]
     },
     "execution_count": 27,
     "metadata": {},
     "output_type": "execute_result"
    }
   ],
   "source": [
    "## Q8. Find the length of a string without using the `len()` function.\n",
    "\n",
    "def lenOfString(input_str):\n",
    "    count = 0\n",
    "    for char in input_str:\n",
    "        count += 1\n",
    "    return count\n",
    "\n",
    "lenOfString('Hi, How are you dear!')"
   ]
  },
  {
   "cell_type": "code",
   "execution_count": 29,
   "id": "d06aa877",
   "metadata": {},
   "outputs": [
    {
     "name": "stdout",
     "output_type": "stream",
     "text": [
      "string is contain specific word nature\n"
     ]
    }
   ],
   "source": [
    "## Q9. Check if a string contains a specific word.\n",
    "\n",
    "def checkSpecificWord(input_str,specific_word):\n",
    "    \n",
    "    if specific_word in input_str:\n",
    "        print(f\"string is contain specific word {specific_word}\")\n",
    "    else:\n",
    "        print(f'string is not containg entered {specific_word}')\n",
    "\n",
    "input_str = input('enter the string :')\n",
    "specific_word = input('enter the specific word: ')\n",
    "checkSpecificWord(input_str,specific_word)\n"
   ]
  },
  {
   "cell_type": "code",
   "execution_count": 30,
   "id": "a7062300",
   "metadata": {},
   "outputs": [
    {
     "data": {
      "text/plain": [
       "'hi, i am sanskiti and my dream reallove is connecto shivam'"
      ]
     },
     "execution_count": 30,
     "metadata": {},
     "output_type": "execute_result"
    }
   ],
   "source": [
    "## Q10. Replace a word in a string with another word.\n",
    "\n",
    "def replaceWord(input_str,replaced_word,new_word):\n",
    "    return input_str.replace(replaced_word,new_word)\n",
    "\n",
    "##functions definations\n",
    "input_str = input(\"Enter the string value: \")\n",
    "replaced_word = input('Enter the word to be replaced: ')\n",
    "new_word = input('enter the new word: ')\n",
    "replaceWord(input_str,replaced_word,new_word)"
   ]
  },
  {
   "cell_type": "code",
   "execution_count": null,
   "id": "b528ec00",
   "metadata": {},
   "outputs": [],
   "source": [
    "##Q11. Count the occurrences of a word in a string."
   ]
  }
 ],
 "metadata": {
  "kernelspec": {
   "display_name": "Python 3",
   "language": "python",
   "name": "python3"
  },
  "language_info": {
   "codemirror_mode": {
    "name": "ipython",
    "version": 3
   },
   "file_extension": ".py",
   "mimetype": "text/x-python",
   "name": "python",
   "nbconvert_exporter": "python",
   "pygments_lexer": "ipython3",
   "version": "3.12.3"
  }
 },
 "nbformat": 4,
 "nbformat_minor": 5
}
